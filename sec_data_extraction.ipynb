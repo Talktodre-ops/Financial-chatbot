{
 "cells": [
  {
   "cell_type": "code",
   "execution_count": 1,
   "id": "2b67ce87",
   "metadata": {},
   "outputs": [
    {
     "name": "stdout",
     "output_type": "stream",
     "text": [
      "Requirement already satisfied: requests in c:\\programdata\\anaconda3\\lib\\site-packages (2.28.1)\n",
      "Requirement already satisfied: charset-normalizer<3,>=2 in c:\\programdata\\anaconda3\\lib\\site-packages (from requests) (2.0.4)\n",
      "Requirement already satisfied: idna<4,>=2.5 in c:\\programdata\\anaconda3\\lib\\site-packages (from requests) (3.4)\n",
      "Requirement already satisfied: certifi>=2017.4.17 in c:\\programdata\\anaconda3\\lib\\site-packages (from requests) (2022.12.7)\n",
      "Requirement already satisfied: urllib3<1.27,>=1.21.1 in c:\\programdata\\anaconda3\\lib\\site-packages (from requests) (1.26.14)\n"
     ]
    }
   ],
   "source": [
    "!pip install requests"
   ]
  },
  {
   "cell_type": "code",
   "execution_count": 2,
   "id": "16398c1f",
   "metadata": {},
   "outputs": [
    {
     "name": "stdout",
     "output_type": "stream",
     "text": [
      "                           2018          2024          2023\n",
      "Revenue            5.289600e+10           NaN           NaN\n",
      "NetIncome                   NaN  9.373600e+10           NaN\n",
      "Assets                      NaN  3.649800e+11  3.527550e+11\n",
      "Liabilities                 NaN  3.080300e+11  3.020830e+11\n",
      "CashFlowOperating           NaN  1.182540e+11           NaN\n"
     ]
    }
   ],
   "source": [
    "import requests\n",
    "import pandas as pd\n",
    "\n",
    "# Define the company CIK and metrics\n",
    "COMPANY_CIK = \"0000320193\"  # Apple (update for Microsoft: \"0000789019\", Tesla: \"0001318605\")\n",
    "METRICS = {\n",
    "    \"Revenue\": \"Revenues\",\n",
    "    \"NetIncome\": \"NetIncomeLoss\",\n",
    "    \"Assets\": \"Assets\",\n",
    "    \"Liabilities\": \"Liabilities\",\n",
    "    \"CashFlowOperating\": \"NetCashProvidedByUsedInOperatingActivities\"\n",
    "}\n",
    "\n",
    "def fetch_sec_data(cik, metrics):\n",
    "    # Construct the API URL\n",
    "    url = f\"https://data.sec.gov/api/xbrl/companyfacts/CIK{cik}.json\"\n",
    "    headers = {\"User-Agent\": \"Dami (Damilare.segun.35@gmail.com)\"}  # Replace with your details\n",
    "    \n",
    "    # Fetch data from the SEC API\n",
    "    response = requests.get(url, headers=headers)\n",
    "    data = response.json()\n",
    "    \n",
    "    # Extract and organize the data\n",
    "    results = {}\n",
    "    for metric_name, metric_tag in metrics.items():\n",
    "        # Get the metric data\n",
    "        metric_data = data[\"facts\"][\"us-gaap\"][metric_tag][\"units\"][\"USD\"]\n",
    "        # Filter for annual data (10-K filings)\n",
    "        annual_data = [d for d in metric_data if d[\"form\"] == \"10-K\"]\n",
    "        # Sort by fiscal year and keep only the last 3 years\n",
    "        annual_data_sorted = sorted(annual_data, key=lambda x: x[\"fy\"], reverse=True)\n",
    "        results[metric_name] = {d[\"fy\"]: d.get(\"val\", None) for d in annual_data_sorted[:3]}\n",
    "    \n",
    "    return results\n",
    "\n",
    "# Fetch data for the company\n",
    "data = fetch_sec_data(COMPANY_CIK, METRICS)\n",
    "\n",
    "# Convert to DataFrame\n",
    "df = pd.DataFrame(data).T  # Transpose to show metrics as rows\n",
    "print(df)"
   ]
  },
  {
   "cell_type": "code",
   "execution_count": 3,
   "id": "a0201bae",
   "metadata": {},
   "outputs": [
    {
     "name": "stdout",
     "output_type": "stream",
     "text": [
      "                           2018          2024          2023\n",
      "Revenue            5.289600e+10           NaN           NaN\n",
      "NetIncome                   NaN  9.373600e+10           NaN\n",
      "Assets                      NaN  3.649800e+11  3.527550e+11\n",
      "Liabilities                 NaN  3.080300e+11  3.020830e+11\n",
      "CashFlowOperating           NaN  1.182540e+11           NaN\n"
     ]
    }
   ],
   "source": [
    "import requests\n",
    "import pandas as pd\n",
    "\n",
    "# Define the company CIK and metrics\n",
    "COMPANY_CIK = \"0000320193\"  # Apple (update for Microsoft, Tesla, etc.)\n",
    "METRICS = {\n",
    "    \"Revenue\": \"Revenues\",\n",
    "    \"NetIncome\": \"NetIncomeLoss\",\n",
    "    \"Assets\": \"Assets\",\n",
    "    \"Liabilities\": \"Liabilities\",\n",
    "    \"CashFlowOperating\": \"NetCashProvidedByUsedInOperatingActivities\"\n",
    "}\n",
    "\n",
    "def fetch_sec_data(cik, metrics):\n",
    "    url = f\"https://data.sec.gov/api/xbrl/companyfacts/CIK{cik}.json\"\n",
    "    headers = {\"User-Agent\": \"John Doe (john.doe@example.com)\"}  # Updated User-Agent\n",
    "    \n",
    "    response = requests.get(url, headers=headers)\n",
    "    data = response.json()\n",
    "    \n",
    "    results = {}\n",
    "    for metric_name, metric_tag in metrics.items():\n",
    "        # Extract the metric data\n",
    "        metric_data = data[\"facts\"][\"us-gaap\"][metric_tag][\"units\"][\"USD\"]\n",
    "        # Filter for annual data (10-K filings)\n",
    "        annual_data = [d for d in metric_data if d[\"form\"] == \"10-K\"]\n",
    "        # Sort by fiscal year and keep only the last 3 years\n",
    "        annual_data_sorted = sorted(annual_data, key=lambda x: x[\"fy\"], reverse=True)\n",
    "        results[metric_name] = {d[\"fy\"]: d.get(\"val\", None) for d in annual_data_sorted[:3]}\n",
    "    \n",
    "    return results\n",
    "\n",
    "# Fetch data for Apple\n",
    "data = fetch_sec_data(COMPANY_CIK, METRICS)\n",
    "\n",
    "# Convert to DataFrame\n",
    "df = pd.DataFrame(data).T  # Transpose to show metrics as rows\n",
    "print(df)"
   ]
  },
  {
   "cell_type": "code",
   "execution_count": null,
   "id": "a9211d07",
   "metadata": {},
   "outputs": [],
   "source": []
  }
 ],
 "metadata": {
  "kernelspec": {
   "display_name": "Python 3 (ipykernel)",
   "language": "python",
   "name": "python3"
  },
  "language_info": {
   "codemirror_mode": {
    "name": "ipython",
    "version": 3
   },
   "file_extension": ".py",
   "mimetype": "text/x-python",
   "name": "python",
   "nbconvert_exporter": "python",
   "pygments_lexer": "ipython3",
   "version": "3.10.9"
  }
 },
 "nbformat": 4,
 "nbformat_minor": 5
}
